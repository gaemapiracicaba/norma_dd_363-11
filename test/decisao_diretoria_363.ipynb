{
 "cells": [
  {
   "cell_type": "markdown",
   "id": "9e050706-8b4f-495c-96bd-645a8a5e52d9",
   "metadata": {
    "tags": [
     "remove_cell"
    ]
   },
   "source": [
    "<br>\n",
    "\n",
    "# Introdução"
   ]
  },
  {
   "cell_type": "code",
   "execution_count": null,
   "id": "b165f4b3",
   "metadata": {},
   "outputs": [],
   "source": [
    "import os\n",
    "import pprint\n",
    "import pandas as pd\n",
    "from collections import OrderedDict"
   ]
  },
  {
   "cell_type": "code",
   "execution_count": null,
   "id": "ac837568",
   "metadata": {},
   "outputs": [],
   "source": [
    "def get_parameters():\n",
    "    # Read Data\n",
    "    try:\n",
    "        df_363 = pd.read_excel(\n",
    "            io=os.path.join(os.path.dirname(__file__), 'data', 'tab_dd_363.xlsx'),\n",
    "            sheet_name='dd_363',\n",
    "            index_col=0\n",
    "        )\n",
    "    except Exception as e:\n",
    "        #print(e, '\\n')\n",
    "        #print('Read table from GitHub')\n",
    "        df_363 = pd.read_excel(\n",
    "            io='https://github.com/gaemapiracicaba/norma_dd_363_11/raw/main/src/normas/data/tab_dd_363.xlsx',\n",
    "            sheet_name='dd_363',\n",
    "            index_col=0\n",
    "        )\n",
    "\n",
    "    # Filter only quality\n",
    "    df_363 = df_363.loc[(df_363['tipo_padrao'] == 'qualidade')]\n",
    "    #print(df_8468.head())\n",
    "\n",
    "    # Classes\n",
    "    list_classes = list(set(df_363['padrao_qualidade']))\n",
    "    list_classes = [x for x in list_classes if pd.notnull(x)]\n",
    "    list_classes.sort()\n",
    "\n",
    "    return df_363, list_classes"
   ]
  },
  {
   "cell_type": "code",
   "execution_count": null,
   "id": "b888fce3",
   "metadata": {
    "tags": [
     "remove_cell"
    ]
   },
   "outputs": [],
   "source": [
    "df_363, list_classes = get_parameters()\n",
    "pprint.pprint(list_classes)"
   ]
  },
  {
   "cell_type": "code",
   "execution_count": null,
   "id": "80ce2056",
   "metadata": {},
   "outputs": [],
   "source": [
    "def filter_by_classe(df_363, classe):\n",
    "    # Filter dataframe by Classe\n",
    "    df_363 = df_363.loc[(df_363['padrao_qualidade'] == classe)]\n",
    "\n",
    "    # Parâmetros\n",
    "    list_parametros = list(set(df_363['parametro_descricao']))\n",
    "    list_parametros = [x for x in list_parametros if pd.notnull(x)]\n",
    "    list_parametros.sort()    \n",
    "    return df_363, list_parametros"
   ]
  },
  {
   "cell_type": "code",
   "execution_count": null,
   "id": "b4b923c9",
   "metadata": {
    "tags": [
     "remove_cell"
    ]
   },
   "outputs": [],
   "source": [
    "df_363, list_parametros = filter_by_classe(df_363, classe='Classe 3')\n",
    "pprint.pprint(list_parametros)"
   ]
  },
  {
   "cell_type": "code",
   "execution_count": null,
   "id": "94f77ece-1563-4272-9422-46f3e5a7f64f",
   "metadata": {},
   "outputs": [],
   "source": [
    "def filter_by_parameters(df_363, parametro):\n",
    "    # Filter dataframe by Parametro\n",
    "    df_363 = df_363.loc[(df_363['parametro_descricao'] == parametro)]\n",
    "\n",
    "    # Check and Get Results\n",
    "    if len(df_363) == 1:\n",
    "        dict_363 = df_363.to_dict(orient='records')[0]\n",
    "        dict_363 = OrderedDict(sorted(dict_363.items(), key=lambda x: df_363.columns.get_loc(x[0])))\n",
    "        return dict_363\n",
    "    else:\n",
    "        return 'erro'"
   ]
  },
  {
   "cell_type": "code",
   "execution_count": null,
   "id": "c6c19154",
   "metadata": {
    "pycharm": {
     "name": "#%%\n"
    }
   },
   "outputs": [],
   "source": [
    "def filter_by_parameters(df_363, parametro, condicao=None):\n",
    "    # Filter dataframe by Parametro\n",
    "    df_363 = df_363.loc[(df_363['parametro_descricao'] == parametro)]\n",
    "\n",
    "    # Condição\n",
    "    array = df_363['condicao'].values\n",
    "    dict_condicao = dict(enumerate(array.flatten(), 1))\n",
    "\n",
    "    # Check and Get Results\n",
    "    if len(df_363) == 1 and len(array) == 1:\n",
    "        dict_363 = df_363.to_dict(orient='records')[0]\n",
    "        dict_363 = OrderedDict(sorted(dict_363.items(), key=lambda x: df_363.columns.get_loc(x[0])))\n",
    "        return dict_363\n",
    "\n",
    "    elif len(df_363) > 1 and len(array) > 1 and condicao is not None:\n",
    "        try:\n",
    "            # Filtra a Condição\n",
    "            #condicao = df_357['condicao'].values[condicao]\n",
    "            df_363 = df_363.loc[(df_363['condicao'] == dict_condicao[int(condicao)])]\n",
    "            dict_363 = df_363.to_dict(orient='records')[0]\n",
    "            dict_363 = OrderedDict(sorted(dict_363.items(), key=lambda x: df_363.columns.get_loc(x[0])))\n",
    "            return dict_363\n",
    "        except Exception as e:\n",
    "            #print(e)\n",
    "            print('A condição definida foi \"{}\".\\nAs opções possíveis são:\\n'.format(condicao))\n",
    "            print(*('{} - {}'.format(k, v) for k,v in dict_condicao.items()), sep='\\n')\n",
    "\n",
    "    else:\n",
    "        print('Parâmetro \"{}\" tem mais de um registro.\\nFaz-se necessário definir condição!\\n'.format(parametro))\n",
    "        print(*('{} - {}'.format(k, v) for k,v in dict_condicao.items()), sep='\\n')"
   ]
  },
  {
   "cell_type": "code",
   "execution_count": null,
   "id": "bb1667c0",
   "metadata": {
    "tags": [
     "remove_cell"
    ]
   },
   "outputs": [],
   "source": [
    "# Filter Data by Parâmetros\n",
    "#dict_363 = filter_by_parameters(df_363, parametro='Escherichia coli')\n",
    "dict_363 = filter_by_parameters(df_363, parametro='Escherichia coli', condicao=2)\n",
    "dict_363"
   ]
  },
  {
   "cell_type": "code",
   "execution_count": null,
   "id": "a6790c1b",
   "metadata": {},
   "outputs": [],
   "source": [
    "def set_type_desconformidade(dict_363):\n",
    "    if pd.isnull(dict_363['valor_minimo_permitido']) & pd.notnull(dict_363['valor_maximo_permitido']):\n",
    "        #print('Parâmetro só tem \"valor máximo\". Caso o valor medido esteja acima, é amostra desconforme!')\n",
    "        tipo_363 = 'acima>desconforme'\n",
    "\n",
    "    elif pd.notnull(dict_363['valor_minimo_permitido']) & pd.isnull(dict_363['valor_maximo_permitido']):\n",
    "        #print('Parâmetro só tem \"valor mínimo\". Caso o valor medido esteja abaixo, é amostra desconforme!')\n",
    "        tipo_363 = 'abaixo>desconforme'\n",
    "\n",
    "    elif pd.notnull(dict_363['valor_minimo_permitido']) & pd.notnull(dict_363['valor_maximo_permitido']):\n",
    "        #print('Parâmetro tem \"valor mínimo\" e \"valor máximo\". Caso o valor medido acima ou abaixo, é amostra desconforme!')\n",
    "        tipo_363 = 'abaixo_acima>desconforme'\n",
    "\n",
    "    elif pd.isnull(dict_363['valor_minimo_permitido']) & pd.isnull(dict_363['valor_maximo_permitido']):\n",
    "        #print('Erro!')\n",
    "        tipo_363 = 'erro'\n",
    "    else:\n",
    "        print('Erro!')\n",
    "        #tipo_363 = 'erro'\n",
    "\n",
    "    return tipo_363"
   ]
  },
  {
   "cell_type": "code",
   "execution_count": null,
   "id": "03855412",
   "metadata": {
    "tags": [
     "remove_cell"
    ]
   },
   "outputs": [],
   "source": [
    "set_type_desconformidade(dict_363)"
   ]
  },
  {
   "cell_type": "code",
   "execution_count": null,
   "id": "0303575b",
   "metadata": {
    "pycharm": {
     "name": "#%%\n"
    }
   },
   "outputs": [],
   "source": [
    "dict_363['valor_maximo_permitido']"
   ]
  },
  {
   "cell_type": "code",
   "execution_count": null,
   "id": "8cf9c618",
   "metadata": {
    "jupyter": {
     "outputs_hidden": false
    },
    "pycharm": {
     "name": "#%%\n"
    }
   },
   "outputs": [],
   "source": [
    "def evaluate_result(valor, dict_363):\n",
    "    # Get type\n",
    "    tipo_363 = set_type_desconformidade(dict_363)\n",
    "\n",
    "    # Evaluate type\n",
    "    if tipo_363 == 'acima>desconforme':\n",
    "        if valor > dict_363['valor_maximo_permitido']:\n",
    "            result_363 = 'desconforme'\n",
    "        else:\n",
    "            result_363 = 'conforme'\n",
    "\n",
    "    elif tipo_363 == 'abaixo>desconforme':\n",
    "        if valor < dict_363['valor_minimo_permitido']:\n",
    "            result_363 = 'desconforme'\n",
    "        else:\n",
    "            result_363 = 'conforme'\n",
    "\n",
    "    elif tipo_363 == 'abaixo_acima>desconforme':\n",
    "        if dict_363['valor_minimo_permitido'] <= valor <= dict_363['valor_maximo_permitido']:\n",
    "            result_363 = 'conforme'\n",
    "        else:\n",
    "            result_363 = 'desconforme'\n",
    "\n",
    "    else:\n",
    "        result_363 = 'erro'\n",
    "\n",
    "    return result_363"
   ]
  },
  {
   "cell_type": "code",
   "execution_count": null,
   "id": "2f200673",
   "metadata": {
    "jupyter": {
     "outputs_hidden": false
    },
    "pycharm": {
     "name": "#%%\n"
    },
    "tags": [
     "remove_cell"
    ]
   },
   "outputs": [],
   "source": [
    "valor = 10\n",
    "evaluate_result(valor, dict_363)"
   ]
  },
  {
   "cell_type": "markdown",
   "id": "ceab891c-0fdb-4f43-aa9e-5fb69181b27b",
   "metadata": {
    "tags": [
     "remove_cell"
    ]
   },
   "source": [
    "<br>\n",
    "\n",
    "# Export"
   ]
  },
  {
   "cell_type": "code",
   "execution_count": null,
   "id": "70faa5e9",
   "metadata": {
    "tags": [
     "remove_cell"
    ]
   },
   "outputs": [],
   "source": [
    "import os\n",
    "from traitlets.config import Config\n",
    "from nbconvert import PythonExporter\n",
    "from nbconvert.preprocessors import TagRemovePreprocessor"
   ]
  },
  {
   "cell_type": "code",
   "execution_count": null,
   "id": "352f48f9",
   "metadata": {
    "tags": [
     "remove_cell"
    ]
   },
   "outputs": [],
   "source": [
    "input_filename = 'decisao_diretoria_363.ipynb'\n",
    "output_filename = 'decisao_diretoria_363.py'\n",
    "\n",
    "input_filepath = os.path.join(os.getcwd(), input_filename)\n",
    "output_filepath = os.path.abspath(os.path.join(os.getcwd(), '..', 'src', 'normas', output_filename))\n",
    "\n",
    "print(input_filepath)\n",
    "print(output_filepath)"
   ]
  },
  {
   "cell_type": "code",
   "execution_count": null,
   "id": "14926c38",
   "metadata": {
    "tags": [
     "remove_cell"
    ]
   },
   "outputs": [],
   "source": [
    "# Import the exporter\n",
    "c = Config()\n",
    "c.TagRemovePreprocessor.enabled=True\n",
    "c.ClearOutputPreprocessor.enabled=True\n",
    "c.TemplateExporter.exclude_markdown=True\n",
    "c.TemplateExporter.exclude_code_cell=False\n",
    "c.TemplateExporter.exclude_input_prompt=True\n",
    "c.TemplateExporter.exclude_output=True\n",
    "c.TemplateExporter.exclude_raw=True\n",
    "c.TagRemovePreprocessor.remove_cell_tags = ('remove_cell',)\n",
    "c.TagRemovePreprocessor.remove_input_tags = ('remove_cell',)\n",
    "c.TagRemovePreprocessor.remove_all_outputs_tags = ('remove_output',)\n",
    "c.preprocessors = ['TagRemovePreprocessor']\n",
    "c.PythonExporter.preprocessors = ['nbconvert.preprocessors.TagRemovePreprocessor']\n",
    "\n",
    "# Configure and run out exporter\n",
    "py_exporter = PythonExporter(config=c)\n",
    "py_exporter.register_preprocessor(TagRemovePreprocessor(config=c), True)\n",
    "\n",
    "# Configure and run out exporter - returns a tuple - first element with html, second with notebook metadata\n",
    "body, metadata = PythonExporter(config=c).from_filename(input_filepath)\n",
    "\n",
    "# Write to output html file\n",
    "with open(output_filepath,  'w', encoding='utf-8') as f:\n",
    "    f.write(body)"
   ]
  },
  {
   "cell_type": "code",
   "execution_count": null,
   "id": "a79fa6b3",
   "metadata": {
    "pycharm": {
     "name": "#%%\n"
    }
   },
   "outputs": [],
   "source": []
  }
 ],
 "metadata": {
  "interpreter": {
   "hash": "c4251c2550b597b05a8b3cb3355425d37849bb76c7d3942e2734861434046725"
  },
  "kernelspec": {
   "display_name": "Python 3 (ipykernel)",
   "language": "python",
   "name": "python3"
  },
  "language_info": {
   "codemirror_mode": {
    "name": "ipython",
    "version": 3
   },
   "file_extension": ".py",
   "mimetype": "text/x-python",
   "name": "python",
   "nbconvert_exporter": "python",
   "pygments_lexer": "ipython3",
   "version": "3.9.7"
  }
 },
 "nbformat": 4,
 "nbformat_minor": 5
}
