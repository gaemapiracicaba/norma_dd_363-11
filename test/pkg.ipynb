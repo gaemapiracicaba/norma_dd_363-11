{
 "cells": [
  {
   "cell_type": "markdown",
   "metadata": {},
   "source": [
    "<br>\n",
    "\n",
    "# Introdução"
   ]
  },
  {
   "cell_type": "code",
   "execution_count": 1,
   "metadata": {},
   "outputs": [
    {
     "data": {
      "text/plain": "'/home/michel/Codes/open_mpsp/norma_dd_363_11/test'"
     },
     "execution_count": 1,
     "metadata": {},
     "output_type": "execute_result"
    }
   ],
   "source": [
    "# Onde Estou?\n",
    "import os\n",
    "os.getcwd()"
   ]
  },
  {
   "cell_type": "code",
   "execution_count": 2,
   "metadata": {},
   "outputs": [
    {
     "name": "stdout",
     "output_type": "stream",
     "text": [
      "Requirement already satisfied: build in /home/michel/Documents/Conda/envs/pablocarreira-py39/lib/python3.9/site-packages (0.7.0)\r\n",
      "Requirement already satisfied: pep517>=0.9.1 in /home/michel/Documents/Conda/envs/pablocarreira-py39/lib/python3.9/site-packages (from build) (0.12.0)\r\n",
      "Requirement already satisfied: tomli>=1.0.0 in /home/michel/Documents/Conda/envs/pablocarreira-py39/lib/python3.9/site-packages (from build) (2.0.1)\r\n",
      "Requirement already satisfied: packaging>=19.0 in /home/michel/Documents/Conda/envs/pablocarreira-py39/lib/python3.9/site-packages (from build) (21.3)\r\n",
      "Requirement already satisfied: pyparsing!=3.0.5,>=2.0.2 in /home/michel/Documents/Conda/envs/pablocarreira-py39/lib/python3.9/site-packages (from packaging>=19.0->build) (3.0.7)\r\n"
     ]
    }
   ],
   "source": [
    "# Instala o build\n",
    "!python3 -m pip install --upgrade build"
   ]
  },
  {
   "cell_type": "code",
   "execution_count": 4,
   "metadata": {},
   "outputs": [
    {
     "name": "stdout",
     "output_type": "stream",
     "text": [
      "\u001B[1m* Creating venv isolated environment...\u001B[0m\r\n",
      "\u001B[1m* Installing packages in isolated environment... (setuptools >= 40.8.0, wheel)\u001B[0m\r\n",
      "\u001B[1m* Getting dependencies for sdist...\u001B[0m\r\n",
      "running egg_info\r\n",
      "writing src/decisao_diretoria_363.egg-info/PKG-INFO\r\n",
      "writing dependency_links to src/decisao_diretoria_363.egg-info/dependency_links.txt\r\n",
      "writing requirements to src/decisao_diretoria_363.egg-info/requires.txt\r\n",
      "writing top-level names to src/decisao_diretoria_363.egg-info/top_level.txt\r\n",
      "reading manifest file 'src/decisao_diretoria_363.egg-info/SOURCES.txt'\r\n",
      "reading manifest template 'MANIFEST.in'\r\n",
      "warning: no directories found matching 'data'\r\n",
      "no previously-included directories found matching 'test'\r\n",
      "warning: no previously-included files matching 'run.py' found anywhere in distribution\r\n",
      "warning: no previously-included files matching 'data/tab_Pa*' found anywhere in distribution\r\n",
      "warning: no previously-included files matching '__pycache__' found anywhere in distribution\r\n",
      "warning: no previously-included files matching '*.py[cod]' found anywhere in distribution\r\n",
      "warning: no previously-included files matching '*.ipynb_checkpoints/' found anywhere in distribution\r\n",
      "adding license file 'LICENSE'\r\n",
      "writing manifest file 'src/decisao_diretoria_363.egg-info/SOURCES.txt'\r\n",
      "\u001B[1m* Building sdist...\u001B[0m\r\n",
      "running sdist\r\n",
      "running egg_info\r\n",
      "writing src/decisao_diretoria_363.egg-info/PKG-INFO\r\n",
      "writing dependency_links to src/decisao_diretoria_363.egg-info/dependency_links.txt\r\n",
      "writing requirements to src/decisao_diretoria_363.egg-info/requires.txt\r\n",
      "writing top-level names to src/decisao_diretoria_363.egg-info/top_level.txt\r\n",
      "reading manifest file 'src/decisao_diretoria_363.egg-info/SOURCES.txt'\r\n",
      "reading manifest template 'MANIFEST.in'\r\n",
      "warning: no directories found matching 'data'\r\n",
      "no previously-included directories found matching 'test'\r\n",
      "warning: no previously-included files matching 'run.py' found anywhere in distribution\r\n",
      "warning: no previously-included files matching 'data/tab_Pa*' found anywhere in distribution\r\n",
      "warning: no previously-included files matching '__pycache__' found anywhere in distribution\r\n",
      "warning: no previously-included files matching '*.py[cod]' found anywhere in distribution\r\n",
      "warning: no previously-included files matching '*.ipynb_checkpoints/' found anywhere in distribution\r\n",
      "adding license file 'LICENSE'\r\n",
      "writing manifest file 'src/decisao_diretoria_363.egg-info/SOURCES.txt'\r\n",
      "running check\r\n",
      "creating decisao_diretoria_363-0.0.4\r\n",
      "creating decisao_diretoria_363-0.0.4/src\r\n",
      "creating decisao_diretoria_363-0.0.4/src/decisao_diretoria_363.egg-info\r\n",
      "creating decisao_diretoria_363-0.0.4/src/normas\r\n",
      "creating decisao_diretoria_363-0.0.4/src/normas/data\r\n",
      "copying files to decisao_diretoria_363-0.0.4...\r\n",
      "copying LICENSE -> decisao_diretoria_363-0.0.4\r\n",
      "copying MANIFEST.in -> decisao_diretoria_363-0.0.4\r\n",
      "copying README.md -> decisao_diretoria_363-0.0.4\r\n",
      "copying requirements.txt -> decisao_diretoria_363-0.0.4\r\n",
      "copying setup.py -> decisao_diretoria_363-0.0.4\r\n",
      "copying src/decisao_diretoria_363.egg-info/PKG-INFO -> decisao_diretoria_363-0.0.4/src/decisao_diretoria_363.egg-info\r\n",
      "copying src/decisao_diretoria_363.egg-info/SOURCES.txt -> decisao_diretoria_363-0.0.4/src/decisao_diretoria_363.egg-info\r\n",
      "copying src/decisao_diretoria_363.egg-info/dependency_links.txt -> decisao_diretoria_363-0.0.4/src/decisao_diretoria_363.egg-info\r\n",
      "copying src/decisao_diretoria_363.egg-info/requires.txt -> decisao_diretoria_363-0.0.4/src/decisao_diretoria_363.egg-info\r\n",
      "copying src/decisao_diretoria_363.egg-info/top_level.txt -> decisao_diretoria_363-0.0.4/src/decisao_diretoria_363.egg-info\r\n",
      "copying src/normas/__init__.py -> decisao_diretoria_363-0.0.4/src/normas\r\n",
      "copying src/normas/decisao_diretoria_363.py -> decisao_diretoria_363-0.0.4/src/normas\r\n",
      "copying src/normas/data/tab_dd_363.xlsx -> decisao_diretoria_363-0.0.4/src/normas/data\r\n",
      "Writing decisao_diretoria_363-0.0.4/setup.cfg\r\n",
      "Creating tar archive\r\n",
      "removing 'decisao_diretoria_363-0.0.4' (and everything under it)\r\n",
      "Traceback (most recent call last):\r\n",
      "  File \"/home/michel/Documents/Conda/envs/pablocarreira-py39/lib/python3.9/site-packages/pep517/in_process/_in_process.py\", line 363, in <module>\r\n",
      "    main()\r\n",
      "  File \"/home/michel/Documents/Conda/envs/pablocarreira-py39/lib/python3.9/site-packages/pep517/in_process/_in_process.py\", line 345, in main\r\n",
      "    json_out['return_val'] = hook(**hook_input['kwargs'])\r\n",
      "  File \"/home/michel/Documents/Conda/envs/pablocarreira-py39/lib/python3.9/site-packages/pep517/in_process/_in_process.py\", line 314, in build_sdist\r\n",
      "    return backend.build_sdist(sdist_directory, config_settings)\r\n",
      "  File \"/tmp/build-env-c49tz575/lib/python3.9/site-packages/setuptools/build_meta.py\", line 248, in build_sdist\r\n",
      "    return self._build_with_temp_dir(['sdist', '--formats', 'gztar'],\r\n",
      "  File \"/tmp/build-env-c49tz575/lib/python3.9/site-packages/setuptools/build_meta.py\", line 237, in _build_with_temp_dir\r\n",
      "    os.rename(os.path.join(tmp_dist_dir, result_basename), result_path)\r\n",
      "  File \"/home/michel/Documents/Conda/envs/pablocarreira-py39/lib/python3.9/tempfile.py\", line 830, in __exit__\r\n",
      "    self.cleanup()\r\n",
      "  File \"/home/michel/Documents/Conda/envs/pablocarreira-py39/lib/python3.9/tempfile.py\", line 834, in cleanup\r\n",
      "    self._rmtree(self.name)\r\n",
      "  File \"/home/michel/Documents/Conda/envs/pablocarreira-py39/lib/python3.9/tempfile.py\", line 816, in _rmtree\r\n",
      "    _shutil.rmtree(name, onerror=onerror)\r\n",
      "  File \"/home/michel/Documents/Conda/envs/pablocarreira-py39/lib/python3.9/shutil.py\", line 731, in rmtree\r\n",
      "    onerror(os.rmdir, path, sys.exc_info())\r\n",
      "  File \"/home/michel/Documents/Conda/envs/pablocarreira-py39/lib/python3.9/shutil.py\", line 729, in rmtree\r\n",
      "    os.rmdir(path)\r\n",
      "OSError: [Errno 26] Text file busy: '/home/michel/Codes/open_mpsp/norma_dd_363_11/dist/tmphiz61oo9'\r\n",
      "\r\n",
      "\u001B[91mERROR\u001B[0m Backend subproccess exited when trying to invoke build_sdist\r\n",
      "\u001B[0m"
     ]
    }
   ],
   "source": [
    "# Builda o projeto\n",
    "!python3 -m build .."
   ]
  },
  {
   "cell_type": "code",
   "execution_count": null,
   "metadata": {},
   "outputs": [],
   "source": []
  }
 ],
 "metadata": {
  "interpreter": {
   "hash": "397a8db9a99587ebc9659e575e97c3dbc03b7cdbd9bc181d706cc19eab1087ed"
  },
  "kernelspec": {
   "display_name": "Python 3 (ipykernel)",
   "language": "python",
   "name": "python3"
  },
  "language_info": {
   "codemirror_mode": {
    "name": "ipython",
    "version": 3
   },
   "file_extension": ".py",
   "mimetype": "text/x-python",
   "name": "python",
   "nbconvert_exporter": "python",
   "pygments_lexer": "ipython3",
   "version": "3.9.7"
  }
 },
 "nbformat": 4,
 "nbformat_minor": 4
}